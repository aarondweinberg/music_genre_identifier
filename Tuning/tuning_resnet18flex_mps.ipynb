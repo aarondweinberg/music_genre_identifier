{
  "cells": [
    {
      "cell_type": "markdown",
      "id": "1973fffc",
      "metadata": {},
      "source": [
        "<h1>Training from Scratch with Various Architectures</h1>\n",
        "\n",
        "This notebook can be used as a template for training models with a variety of architectures\n",
        "\n",
        "Just need to set model_local to be the desired architecture. \n",
        "\n",
        "In the example here, the architecture is imported from an external file in the line:\n",
        "from resnet18flex import ResNet18Gray\n",
        "and then instantiated with the line\n",
        "model_local = ResNet18Gray(num_classes=num_classes, input_height=128)\n",
        "\n",
        "\n",
        "* Features: 15-second mel spectrograms, augmented with pitch shift and pink noise\n",
        "* Architecture: ResNet18 (modified for our inputs)\n",
        "* Inputs: A variety of spectrograms of dimension 12x256, 32x256, and 128x256 (also graphs of dimension 300x300)\n",
        "    * We'll adjust the ResNet18 architecture use stride=1 in conv1 and skip maxpool when the height is 12 or 32\n",
        "* Model: Tuning from scratch\n",
        "* Loss function: Soft Labeling Loss\n",
        "* Target: ~250 musicmap genres"
      ]
    },
    {
      "cell_type": "code",
      "execution_count": 1,
      "id": "3e69c03d-781e-4bfe-950b-1e55d4a832ac",
      "metadata": {
        "gather": {
          "logged": 1753390485307
        }
      },
      "outputs": [],
      "source": [
        "# Run this command if having trouble with import statements\n",
        "# %pip install scikit-learn seaborn beautifulsoup4 pyvis"
      ]
    },
    {
      "cell_type": "code",
      "execution_count": 2,
      "id": "b1986813",
      "metadata": {},
      "outputs": [
        {
          "name": "stdout",
          "output_type": "stream",
          "text": [
            "/opt/homebrew/anaconda3/envs/deep-learning/bin/python\n"
          ]
        }
      ],
      "source": [
        "import sys\n",
        "print(sys.executable)"
      ]
    },
    {
      "cell_type": "markdown",
      "id": "87d7930a",
      "metadata": {},
      "source": [
        "<h2>Imports and Parameters</h2>"
      ]
    },
    {
      "cell_type": "code",
      "execution_count": 1,
      "id": "23237818",
      "metadata": {
        "gather": {
          "logged": 1753392061033
        }
      },
      "outputs": [],
      "source": [
        "# Imports\n",
        "import os\n",
        "\n",
        "from PIL import Image\n",
        "\n",
        "import torch\n",
        "import torch.nn as nn\n",
        "import torch.nn.functional as F\n",
        "from torch.nn.functional import one_hot\n",
        "from torch import nn, optim\n",
        "from torch.optim.swa_utils import AveragedModel\n",
        "from torch.cuda.amp import GradScaler\n",
        "from torch.utils.data import DataLoader\n",
        "\n",
        "import torchvision\n",
        "from torchvision import transforms, datasets\n",
        "\n",
        "import numpy as np\n",
        "\n",
        "from sklearn.metrics import precision_score, recall_score, f1_score, confusion_matrix\n",
        "from sklearn.utils.multiclass import unique_labels\n",
        "\n",
        "import matplotlib.pyplot as plt\n",
        "import seaborn as sns\n",
        "\n",
        "import pandas as pd\n",
        "import networkx as nx\n",
        "from bs4 import BeautifulSoup\n",
        "from collections import defaultdict\n",
        "from pyvis.network import Network\n",
        "from tabulate import tabulate\n",
        "\n",
        "from tqdm import tqdm\n",
        "\n",
        "from musicmap_graph_creator import create_musicmap_graph, compute_shortest_paths_between_classes_nx\n",
        "from resnet18flex import ResNet18Gray\n",
        "from musicmap_helpers import compute_image_dataset_stats, check_set_gpu, batch_soft_labeling_loss, top_k_accuracy, evaluate, plot_metrics, plot_cm_super\n"
      ]
    },
    {
      "cell_type": "code",
      "execution_count": 2,
      "id": "d58eff53",
      "metadata": {
        "gather": {
          "logged": 1753392063660
        }
      },
      "outputs": [
        {
          "name": "stdout",
          "output_type": "stream",
          "text": [
            "Using MPS: True\n"
          ]
        }
      ],
      "source": [
        "train_data_directory = \"./15_second_features_augmented/musicmap_processed_output_splits_train/mel_db_gray\"\n",
        "val_data_directory = \"./15_second_features_augmented/musicmap_processed_output_splits_val/mel_db_gray\"\n",
        "\n",
        "# Set the device to the local GPU if available\n",
        "device = check_set_gpu()\n",
        "\n",
        "num_epochs = 100  # Maximum number of epochs to try\n",
        "beta = 5        # Hyperparameter for soft loss function\n",
        "patience = 10   # Number of epochs in early stopping condition\n",
        "swa_start_epoch = 5  # start averaging after this epoch\n",
        "\n",
        "# Edge weights for the graph\n",
        "primary_edge_weight = 1\n",
        "secondary_edge_weight = 2\n",
        "backlash_edge_weight = 3\n",
        "supergenre_edge_weight = 4\n",
        "world_supergenre_weight = 1\n",
        "world_cluster_weight = 1\n",
        "util_genre_weight = 2\n",
        "cluster_weight = 1"
      ]
    },
    {
      "cell_type": "markdown",
      "id": "a9c9ef28",
      "metadata": {},
      "source": [
        "<h2>Shortest Path Matrix</h2>"
      ]
    },
    {
      "cell_type": "code",
      "execution_count": 3,
      "id": "bbb60cba",
      "metadata": {
        "gather": {
          "logged": 1753392071037
        }
      },
      "outputs": [],
      "source": [
        "musicmap_graph = create_musicmap_graph(\n",
        "    primary_edge_weight, \n",
        "    secondary_edge_weight,\n",
        "    backlash_edge_weight,\n",
        "    supergenre_edge_weight,\n",
        "    world_supergenre_weight,\n",
        "    world_cluster_weight,\n",
        "    util_genre_weight,\n",
        "    cluster_weight\n",
        ")\n",
        "\n",
        "shortest_graph, class_names = compute_shortest_paths_between_classes_nx(\n",
        "    class_dir=train_data_directory,  # path to folder with class folders\n",
        "    graph=musicmap_graph,\n",
        "    return_tensor=True\n",
        ")"
      ]
    },
    {
      "cell_type": "markdown",
      "id": "7e2da20e",
      "metadata": {},
      "source": [
        "<h2>Transform</h2>\n",
        "\n",
        "We'll use the means and standard deviations to normalize the images.\n",
        "\n",
        "Using ImageFolder might default to loading images as RGB, even if they're just greyscale. So we'll force greyscale as part of the transform for greyscale images.\n",
        "\n",
        "For use with images that require color, there is also a RGB version of the transform that only strips out the alpha channel."
      ]
    },
    {
      "cell_type": "code",
      "execution_count": 4,
      "id": "12eeb38a-f198-4014-a422-399d59c7915d",
      "metadata": {
        "gather": {
          "logged": 1753377011547
        }
      },
      "outputs": [],
      "source": [
        "image_dir = train_data_directory\n",
        "means, sds = compute_image_dataset_stats(image_dir)"
      ]
    },
    {
      "cell_type": "code",
      "execution_count": 5,
      "id": "e6086df3",
      "metadata": {
        "gather": {
          "logged": 1753392116184
        }
      },
      "outputs": [],
      "source": [
        "transform_greyscale = transforms.Compose([\n",
        "    transforms.ToTensor(), # Should always be the last step before feeding into a model\n",
        "    transforms.Grayscale(num_output_channels=1),  # force grayscale\n",
        "    transforms.Normalize(mean=means, std=sds)    # Normalize to imagenet mean and standard deviation\n",
        "])\n",
        "\n",
        "transform_rgb = transforms.Compose([\n",
        "    transforms.ToTensor(), # Should always be the last step before feeding into a model\n",
        "    transforms.Lambda(lambda x: x[:3, :, :]),  # Remove the alpha channel and keep only the first 3 channels (RGB)\n",
        "    transforms.Normalize(mean=means, std=sds)    # Normalize to imagenet mean and standard deviation\n",
        "])"
      ]
    },
    {
      "cell_type": "markdown",
      "id": "6682798c",
      "metadata": {},
      "source": [
        "<h2>Loading the Data</h2>\n",
        "\n",
        "Define the datasets and create dataloaders.\n",
        "ImageFolder automatically creates labels from the folder structure."
      ]
    },
    {
      "cell_type": "code",
      "execution_count": 6,
      "id": "f26a237b",
      "metadata": {
        "gather": {
          "logged": 1753392128797
        }
      },
      "outputs": [],
      "source": [
        "train_dataset = torchvision.datasets.ImageFolder(\n",
        "    root=train_data_directory,\n",
        "    transform=transform_greyscale\n",
        ")\n",
        "\n",
        "val_dataset = torchvision.datasets.ImageFolder(\n",
        "    root=val_data_directory,\n",
        "    transform=transform_greyscale\n",
        ")"
      ]
    },
    {
      "cell_type": "code",
      "execution_count": 7,
      "id": "4f7c3e68",
      "metadata": {
        "gather": {
          "logged": 1753392128853
        }
      },
      "outputs": [],
      "source": [
        "train_dataloader = torch.utils.data.DataLoader(\n",
        "    train_dataset,\n",
        "    batch_size=64,  # Adjust batch size as needed\n",
        "    shuffle=True,\n",
        "    num_workers=4,  # Adjust this to tweak multiprocessing\n",
        "    pin_memory=True,\n",
        "    prefetch_factor=2\n",
        ")\n",
        "\n",
        "val_dataloader = torch.utils.data.DataLoader(\n",
        "    val_dataset,\n",
        "    batch_size=10,  # Adjust batch size as needed\n",
        "    shuffle=False, #Setting to false keeps evaluation stable across epochs\n",
        "    num_workers=4,\n",
        "    pin_memory=True,\n",
        "    prefetch_factor=2 \n",
        ")"
      ]
    },
    {
      "cell_type": "markdown",
      "id": "a5d4e81b",
      "metadata": {},
      "source": [
        "<h2>Architecture</h2>\n",
        "\n",
        "Compute the number of classes and instantiate the model"
      ]
    },
    {
      "cell_type": "code",
      "execution_count": 8,
      "id": "6e58731f",
      "metadata": {
        "gather": {
          "logged": 1753392147737
        }
      },
      "outputs": [],
      "source": [
        "num_classes = len(train_dataloader.dataset.classes) \n",
        "\n",
        "model_local = ResNet18Gray(num_classes=num_classes, input_height=128)\n",
        "model_local = model_local.to(device)"
      ]
    },
    {
      "cell_type": "markdown",
      "id": "f398f89b",
      "metadata": {},
      "source": [
        "<h2>Criterion, Optimizer, and Scheduler</h2>"
      ]
    },
    {
      "cell_type": "code",
      "execution_count": 9,
      "id": "85dbb6d0",
      "metadata": {
        "gather": {
          "logged": 1753392208589
        }
      },
      "outputs": [],
      "source": [
        "criterion = lambda outputs, labels: batch_soft_labeling_loss(outputs, labels, shortest_graph, beta)\n",
        "\n",
        "optimizer = optim.Adam(model_local.parameters(), lr=0.001, weight_decay=1e-4)\n",
        "\n",
        "scheduler = torch.optim.lr_scheduler.ReduceLROnPlateau(\n",
        "    optimizer, mode='max', factor=0.5, patience=2)#, verbose=True)"
      ]
    },
    {
      "cell_type": "markdown",
      "id": "ca6ee038",
      "metadata": {},
      "source": [
        "<h2>Training</h2>\n",
        "\n",
        "This calls an evaluate function, which automatically saves a confusion matrix.\n",
        "\n",
        "Incorporates auto-stopping\n",
        "\n",
        "Automatically saves a best model, a SWA model, a plot of evaluation metrics, and a plot of a confusion matrix."
      ]
    },
    {
      "cell_type": "code",
      "execution_count": null,
      "id": "a1b731ea",
      "metadata": {
        "gather": {
          "logged": 1753395262028
        }
      },
      "outputs": [
        {
          "name": "stderr",
          "output_type": "stream",
          "text": [
            "Epoch 1 - Training: 100%|█████████████████████████████████████████| 630/630 [15:57<00:00,  1.52s/it]\n"
          ]
        },
        {
          "name": "stdout",
          "output_type": "stream",
          "text": [
            "[Epoch 1] New best mean_distance: 3.3128\n",
            "+---------+--------------+-------------+------------+-----------+-------------+-------------+-------------+----------+-------+------------------+---------------+-------------+\n",
            "|   Epoch |   Train Loss | Train Acc   |   Val Loss | Val Acc   | Top-3 Acc   | Top-5 Acc   | Precision   | Recall   | F1    | Supergenre Acc   | Top-3 Super   |   Mean Dist |\n",
            "+=========+==============+=============+============+===========+=============+=============+=============+==========+=======+==================+===============+=============+\n",
            "|       1 |       4.2548 | 9.24%       |     5.0472 | 5.68%     | 13.41%      | 19.27%      | 4.29%       | 6.02%    | 3.48% | 18.98%           | 40.60%        |      3.3128 |\n",
            "+---------+--------------+-------------+------------+-----------+-------------+-------------+-------------+----------+-------+------------------+---------------+-------------+\n"
          ]
        },
        {
          "name": "stderr",
          "output_type": "stream",
          "text": [
            "Epoch 2 - Training: 100%|█████████████████████████████████████████| 630/630 [16:29<00:00,  1.57s/it]\n"
          ]
        },
        {
          "name": "stdout",
          "output_type": "stream",
          "text": [
            "[Epoch 2] New best mean_distance: 3.2298\n",
            "+---------+--------------+-------------+------------+-----------+-------------+-------------+-------------+----------+-------+------------------+---------------+-------------+\n",
            "|   Epoch |   Train Loss | Train Acc   |   Val Loss | Val Acc   | Top-3 Acc   | Top-5 Acc   | Precision   | Recall   | F1    | Supergenre Acc   | Top-3 Super   |   Mean Dist |\n",
            "+=========+==============+=============+============+===========+=============+=============+=============+==========+=======+==================+===============+=============+\n",
            "|       2 |       2.8437 | 32.33%      |     5.1704 | 8.47%     | 18.83%      | 25.55%      | 8.55%       | 8.80%    | 6.98% | 24.98%           | 45.11%        |      3.2298 |\n",
            "+---------+--------------+-------------+------------+-----------+-------------+-------------+-------------+----------+-------+------------------+---------------+-------------+\n"
          ]
        },
        {
          "name": "stderr",
          "output_type": "stream",
          "text": [
            "Epoch 3 - Training: 100%|█████████████████████████████████████████| 630/630 [17:17<00:00,  1.65s/it]\n"
          ]
        },
        {
          "name": "stdout",
          "output_type": "stream",
          "text": [
            "[Epoch 3] New best mean_distance: 3.2115\n",
            "+---------+--------------+-------------+------------+-----------+-------------+-------------+-------------+----------+-------+------------------+---------------+-------------+\n",
            "|   Epoch |   Train Loss | Train Acc   |   Val Loss | Val Acc   | Top-3 Acc   | Top-5 Acc   | Precision   | Recall   | F1    | Supergenre Acc   | Top-3 Super   |   Mean Dist |\n",
            "+=========+==============+=============+============+===========+=============+=============+=============+==========+=======+==================+===============+=============+\n",
            "|       3 |       1.7389 | 60.18%      |     5.4897 | 8.38%     | 18.24%      | 26.03%      | 8.51%       | 8.51%    | 7.18% | 26.05%           | 48.20%        |      3.2115 |\n",
            "+---------+--------------+-------------+------------+-----------+-------------+-------------+-------------+----------+-------+------------------+---------------+-------------+\n"
          ]
        },
        {
          "name": "stderr",
          "output_type": "stream",
          "text": [
            "Epoch 4 - Training: 100%|█████████████████████████████████████████| 630/630 [17:19<00:00,  1.65s/it]\n"
          ]
        },
        {
          "name": "stdout",
          "output_type": "stream",
          "text": [
            "[Epoch 4] New best mean_distance: 3.1643\n",
            "+---------+--------------+-------------+------------+-----------+-------------+-------------+-------------+----------+-------+------------------+---------------+-------------+\n",
            "|   Epoch |   Train Loss | Train Acc   |   Val Loss | Val Acc   | Top-3 Acc   | Top-5 Acc   | Precision   | Recall   | F1    | Supergenre Acc   | Top-3 Super   |   Mean Dist |\n",
            "+=========+==============+=============+============+===========+=============+=============+=============+==========+=======+==================+===============+=============+\n",
            "|       4 |       1.0515 | 78.77%      |     5.8329 | 8.65%     | 19.21%      | 26.52%      | 9.02%       | 8.91%    | 7.54% | 26.49%           | 47.96%        |      3.1643 |\n",
            "+---------+--------------+-------------+------------+-----------+-------------+-------------+-------------+----------+-------+------------------+---------------+-------------+\n"
          ]
        },
        {
          "name": "stderr",
          "output_type": "stream",
          "text": [
            "Epoch 5 - Training: 100%|█████████████████████████████████████████| 630/630 [15:47<00:00,  1.50s/it]\n"
          ]
        },
        {
          "name": "stdout",
          "output_type": "stream",
          "text": [
            "[Epoch 5] New best mean_distance: 3.1562\n",
            "+---------+--------------+-------------+------------+-----------+-------------+-------------+-------------+----------+-------+------------------+---------------+-------------+\n",
            "|   Epoch |   Train Loss | Train Acc   |   Val Loss | Val Acc   | Top-3 Acc   | Top-5 Acc   | Precision   | Recall   | F1    | Supergenre Acc   | Top-3 Super   |   Mean Dist |\n",
            "+=========+==============+=============+============+===========+=============+=============+=============+==========+=======+==================+===============+=============+\n",
            "|       5 |       0.5076 | 94.31%      |     5.6501 | 8.60%     | 19.61%      | 27.73%      | 8.31%       | 8.89%    | 7.83% | 26.50%           | 49.42%        |      3.1562 |\n",
            "+---------+--------------+-------------+------------+-----------+-------------+-------------+-------------+----------+-------+------------------+---------------+-------------+\n"
          ]
        },
        {
          "name": "stderr",
          "output_type": "stream",
          "text": [
            "Epoch 6 - Training: 100%|█████████████████████████████████████████| 630/630 [16:41<00:00,  1.59s/it]\n"
          ]
        },
        {
          "name": "stdout",
          "output_type": "stream",
          "text": [
            "No improvement in mean_distance for 1 epoch(s).\n",
            "+---------+--------------+-------------+------------+-----------+-------------+-------------+-------------+----------+-------+------------------+---------------+-------------+\n",
            "|   Epoch |   Train Loss | Train Acc   |   Val Loss | Val Acc   | Top-3 Acc   | Top-5 Acc   | Precision   | Recall   | F1    | Supergenre Acc   | Top-3 Super   |   Mean Dist |\n",
            "+=========+==============+=============+============+===========+=============+=============+=============+==========+=======+==================+===============+=============+\n",
            "|       6 |       0.4014 | 96.83%      |     5.7863 | 8.72%     | 19.74%      | 27.09%      | 9.89%       | 9.06%    | 8.54% | 26.01%           | 48.19%        |      3.1779 |\n",
            "+---------+--------------+-------------+------------+-----------+-------------+-------------+-------------+----------+-------+------------------+---------------+-------------+\n"
          ]
        },
        {
          "name": "stderr",
          "output_type": "stream",
          "text": [
            "Epoch 7 - Training: 100%|█████████████████████████████████████████| 630/630 [15:15<00:00,  1.45s/it]\n"
          ]
        },
        {
          "name": "stdout",
          "output_type": "stream",
          "text": [
            "[Epoch 7] New best mean_distance: 3.1086\n",
            "+---------+--------------+-------------+------------+-----------+-------------+-------------+-------------+----------+-------+------------------+---------------+-------------+\n",
            "|   Epoch |   Train Loss | Train Acc   |   Val Loss | Val Acc   | Top-3 Acc   | Top-5 Acc   | Precision   | Recall   | F1    | Supergenre Acc   | Top-3 Super   |   Mean Dist |\n",
            "+=========+==============+=============+============+===========+=============+=============+=============+==========+=======+==================+===============+=============+\n",
            "|       7 |        0.368 | 97.47%      |      5.681 | 9.14%     | 19.24%      | 26.37%      | 8.89%       | 9.10%    | 8.18% | 26.72%           | 48.11%        |      3.1086 |\n",
            "+---------+--------------+-------------+------------+-----------+-------------+-------------+-------------+----------+-------+------------------+---------------+-------------+\n"
          ]
        },
        {
          "name": "stderr",
          "output_type": "stream",
          "text": [
            "Epoch 8 - Training: 100%|█████████████████████████████████████████| 630/630 [15:01<00:00,  1.43s/it]\n"
          ]
        },
        {
          "name": "stdout",
          "output_type": "stream",
          "text": [
            "[Epoch 8] New best mean_distance: 3.0422\n",
            "+---------+--------------+-------------+------------+-----------+-------------+-------------+-------------+----------+-------+------------------+---------------+-------------+\n",
            "|   Epoch |   Train Loss | Train Acc   |   Val Loss | Val Acc   | Top-3 Acc   | Top-5 Acc   | Precision   | Recall   | F1    | Supergenre Acc   | Top-3 Super   |   Mean Dist |\n",
            "+=========+==============+=============+============+===========+=============+=============+=============+==========+=======+==================+===============+=============+\n",
            "|       8 |        0.257 | 99.59%      |     5.2841 | 10.73%    | 20.21%      | 27.92%      | 9.72%       | 10.91%   | 9.58% | 28.52%           | 49.02%        |      3.0422 |\n",
            "+---------+--------------+-------------+------------+-----------+-------------+-------------+-------------+----------+-------+------------------+---------------+-------------+\n"
          ]
        },
        {
          "name": "stderr",
          "output_type": "stream",
          "text": [
            "Epoch 9 - Training: 100%|█████████████████████████████████████████| 630/630 [18:00<00:00,  1.71s/it]\n"
          ]
        },
        {
          "name": "stdout",
          "output_type": "stream",
          "text": [
            "[Epoch 9] New best mean_distance: 3.0149\n",
            "+---------+--------------+-------------+------------+-----------+-------------+-------------+-------------+----------+-------+------------------+---------------+-------------+\n",
            "|   Epoch |   Train Loss | Train Acc   |   Val Loss | Val Acc   | Top-3 Acc   | Top-5 Acc   | Precision   | Recall   | F1    | Supergenre Acc   | Top-3 Super   |   Mean Dist |\n",
            "+=========+==============+=============+============+===========+=============+=============+=============+==========+=======+==================+===============+=============+\n",
            "|       9 |       0.2166 | 99.89%      |     5.2222 | 10.44%    | 21.45%      | 28.82%      | 9.74%       | 10.73%   | 9.60% | 28.34%           | 49.15%        |      3.0149 |\n",
            "+---------+--------------+-------------+------------+-----------+-------------+-------------+-------------+----------+-------+------------------+---------------+-------------+\n"
          ]
        },
        {
          "name": "stderr",
          "output_type": "stream",
          "text": [
            "Epoch 10 - Training: 100%|████████████████████████████████████████| 630/630 [18:05<00:00,  1.72s/it]\n"
          ]
        },
        {
          "name": "stdout",
          "output_type": "stream",
          "text": [
            "No improvement in mean_distance for 1 epoch(s).\n",
            "+---------+--------------+-------------+------------+-----------+-------------+-------------+-------------+----------+-------+------------------+---------------+-------------+\n",
            "|   Epoch |   Train Loss | Train Acc   |   Val Loss | Val Acc   | Top-3 Acc   | Top-5 Acc   | Precision   | Recall   | F1    | Supergenre Acc   | Top-3 Super   |   Mean Dist |\n",
            "+=========+==============+=============+============+===========+=============+=============+=============+==========+=======+==================+===============+=============+\n",
            "|      10 |       0.2301 | 99.61%      |     5.5414 | 9.84%     | 19.71%      | 26.99%      | 9.50%       | 9.89%    | 8.75% | 26.93%           | 48.32%        |      3.1568 |\n",
            "+---------+--------------+-------------+------------+-----------+-------------+-------------+-------------+----------+-------+------------------+---------------+-------------+\n"
          ]
        },
        {
          "name": "stderr",
          "output_type": "stream",
          "text": [
            "Epoch 11 - Training: 100%|████████████████████████████████████████| 630/630 [18:05<00:00,  1.72s/it]\n"
          ]
        },
        {
          "name": "stdout",
          "output_type": "stream",
          "text": [
            "[Epoch 11] New best mean_distance: 2.9641\n",
            "+---------+--------------+-------------+------------+-----------+-------------+-------------+-------------+----------+-------+------------------+---------------+-------------+\n",
            "|   Epoch |   Train Loss | Train Acc   |   Val Loss | Val Acc   | Top-3 Acc   | Top-5 Acc   | Precision   | Recall   | F1    | Supergenre Acc   | Top-3 Super   |   Mean Dist |\n",
            "+=========+==============+=============+============+===========+=============+=============+=============+==========+=======+==================+===============+=============+\n",
            "|      11 |       0.2146 | 99.79%      |     5.1259 | 10.66%    | 22.22%      | 29.18%      | 9.99%       | 10.92%   | 9.89% | 29.24%           | 49.86%        |      2.9641 |\n",
            "+---------+--------------+-------------+------------+-----------+-------------+-------------+-------------+----------+-------+------------------+---------------+-------------+\n"
          ]
        },
        {
          "name": "stderr",
          "output_type": "stream",
          "text": [
            "Epoch 12 - Training: 100%|████████████████████████████████████████| 630/630 [18:02<00:00,  1.72s/it]\n"
          ]
        },
        {
          "name": "stdout",
          "output_type": "stream",
          "text": [
            "No improvement in mean_distance for 1 epoch(s).\n",
            "+---------+--------------+-------------+------------+-----------+-------------+-------------+-------------+----------+--------+------------------+---------------+-------------+\n",
            "|   Epoch |   Train Loss | Train Acc   |   Val Loss | Val Acc   | Top-3 Acc   | Top-5 Acc   | Precision   | Recall   | F1     | Supergenre Acc   | Top-3 Super   |   Mean Dist |\n",
            "+=========+==============+=============+============+===========+=============+=============+=============+==========+========+==================+===============+=============+\n",
            "|      12 |       0.1886 | 99.87%      |     5.0211 | 11.07%    | 21.61%      | 29.14%      | 10.31%      | 11.26%   | 10.11% | 29.17%           | 48.58%        |      2.9731 |\n",
            "+---------+--------------+-------------+------------+-----------+-------------+-------------+-------------+----------+--------+------------------+---------------+-------------+\n"
          ]
        },
        {
          "name": "stderr",
          "output_type": "stream",
          "text": [
            "Epoch 13 - Training: 100%|████████████████████████████████████████| 630/630 [17:19<00:00,  1.65s/it]\n"
          ]
        },
        {
          "name": "stdout",
          "output_type": "stream",
          "text": [
            "No improvement in mean_distance for 2 epoch(s).\n",
            "+---------+--------------+-------------+------------+-----------+-------------+-------------+-------------+----------+-------+------------------+---------------+-------------+\n",
            "|   Epoch |   Train Loss | Train Acc   |   Val Loss | Val Acc   | Top-3 Acc   | Top-5 Acc   | Precision   | Recall   | F1    | Supergenre Acc   | Top-3 Super   |   Mean Dist |\n",
            "+=========+==============+=============+============+===========+=============+=============+=============+==========+=======+==================+===============+=============+\n",
            "|      13 |       0.1835 | 99.84%      |     5.1692 | 10.23%    | 20.66%      | 27.75%      | 10.18%      | 10.53%   | 9.39% | 27.89%           | 47.64%        |      3.0234 |\n",
            "+---------+--------------+-------------+------------+-----------+-------------+-------------+-------------+----------+-------+------------------+---------------+-------------+\n"
          ]
        },
        {
          "name": "stderr",
          "output_type": "stream",
          "text": [
            "Epoch 14 - Training: 100%|████████████████████████████████████████| 630/630 [17:56<00:00,  1.71s/it]\n"
          ]
        },
        {
          "name": "stdout",
          "output_type": "stream",
          "text": [
            "[Epoch 14] New best mean_distance: 2.9076\n",
            "+---------+--------------+-------------+------------+-----------+-------------+-------------+-------------+----------+--------+------------------+---------------+-------------+\n",
            "|   Epoch |   Train Loss | Train Acc   |   Val Loss | Val Acc   | Top-3 Acc   | Top-5 Acc   | Precision   | Recall   | F1     | Supergenre Acc   | Top-3 Super   |   Mean Dist |\n",
            "+=========+==============+=============+============+===========+=============+=============+=============+==========+========+==================+===============+=============+\n",
            "|      14 |       0.1767 | 99.86%      |     4.9152 | 11.42%    | 22.03%      | 28.84%      | 10.44%      | 11.61%   | 10.39% | 29.72%           | 48.88%        |      2.9076 |\n",
            "+---------+--------------+-------------+------------+-----------+-------------+-------------+-------------+----------+--------+------------------+---------------+-------------+\n"
          ]
        },
        {
          "name": "stderr",
          "output_type": "stream",
          "text": [
            "Epoch 15 - Training: 100%|████████████████████████████████████████| 630/630 [26:16<00:00,  2.50s/it]\n"
          ]
        },
        {
          "name": "stdout",
          "output_type": "stream",
          "text": [
            "No improvement in mean_distance for 1 epoch(s).\n",
            "+---------+--------------+-------------+------------+-----------+-------------+-------------+-------------+----------+--------+------------------+---------------+-------------+\n",
            "|   Epoch |   Train Loss | Train Acc   |   Val Loss | Val Acc   | Top-3 Acc   | Top-5 Acc   | Precision   | Recall   | F1     | Supergenre Acc   | Top-3 Super   |   Mean Dist |\n",
            "+=========+==============+=============+============+===========+=============+=============+=============+==========+========+==================+===============+=============+\n",
            "|      15 |       0.1714 | 99.90%      |     4.8919 | 10.85%    | 21.19%      | 28.64%      | 10.39%      | 10.92%   | 10.04% | 29.82%           | 48.52%        |      2.9155 |\n",
            "+---------+--------------+-------------+------------+-----------+-------------+-------------+-------------+----------+--------+------------------+---------------+-------------+\n"
          ]
        },
        {
          "name": "stderr",
          "output_type": "stream",
          "text": [
            "Epoch 16 - Training: 100%|████████████████████████████████████████| 630/630 [25:25<00:00,  2.42s/it]\n"
          ]
        },
        {
          "name": "stdout",
          "output_type": "stream",
          "text": [
            "No improvement in mean_distance for 2 epoch(s).\n",
            "+---------+--------------+-------------+------------+-----------+-------------+-------------+-------------+----------+--------+------------------+---------------+-------------+\n",
            "|   Epoch |   Train Loss | Train Acc   |   Val Loss | Val Acc   | Top-3 Acc   | Top-5 Acc   | Precision   | Recall   | F1     | Supergenre Acc   | Top-3 Super   |   Mean Dist |\n",
            "+=========+==============+=============+============+===========+=============+=============+=============+==========+========+==================+===============+=============+\n",
            "|      16 |       0.1702 | 99.89%      |     4.8723 | 11.24%    | 21.89%      | 29.45%      | 10.26%      | 11.36%   | 10.10% | 29.91%           | 48.51%        |      2.9252 |\n",
            "+---------+--------------+-------------+------------+-----------+-------------+-------------+-------------+----------+--------+------------------+---------------+-------------+\n"
          ]
        },
        {
          "name": "stderr",
          "output_type": "stream",
          "text": [
            "Epoch 17 - Training: 100%|████████████████████████████████████████| 630/630 [25:19<00:00,  2.41s/it]\n"
          ]
        },
        {
          "name": "stdout",
          "output_type": "stream",
          "text": [
            "No improvement in mean_distance for 3 epoch(s).\n",
            "+---------+--------------+-------------+------------+-----------+-------------+-------------+-------------+----------+--------+------------------+---------------+-------------+\n",
            "|   Epoch |   Train Loss | Train Acc   |   Val Loss | Val Acc   | Top-3 Acc   | Top-5 Acc   | Precision   | Recall   | F1     | Supergenre Acc   | Top-3 Super   |   Mean Dist |\n",
            "+=========+==============+=============+============+===========+=============+=============+=============+==========+========+==================+===============+=============+\n",
            "|      17 |       0.1665 | 99.88%      |     4.8229 | 11.24%    | 22.09%      | 29.43%      | 10.39%      | 11.31%   | 10.21% | 29.89%           | 48.64%        |      2.9219 |\n",
            "+---------+--------------+-------------+------------+-----------+-------------+-------------+-------------+----------+--------+------------------+---------------+-------------+\n"
          ]
        },
        {
          "name": "stderr",
          "output_type": "stream",
          "text": [
            "Epoch 18 - Training: 100%|████████████████████████████████████████| 630/630 [25:23<00:00,  2.42s/it]\n"
          ]
        },
        {
          "name": "stdout",
          "output_type": "stream",
          "text": [
            "[Epoch 18] New best mean_distance: 2.8908\n",
            "+---------+--------------+-------------+------------+-----------+-------------+-------------+-------------+----------+--------+------------------+---------------+-------------+\n",
            "|   Epoch |   Train Loss | Train Acc   |   Val Loss | Val Acc   | Top-3 Acc   | Top-5 Acc   | Precision   | Recall   | F1     | Supergenre Acc   | Top-3 Super   |   Mean Dist |\n",
            "+=========+==============+=============+============+===========+=============+=============+=============+==========+========+==================+===============+=============+\n",
            "|      18 |       0.1647 | 99.90%      |     4.8216 | 11.54%    | 22.04%      | 29.55%      | 10.63%      | 11.68%   | 10.42% | 30.14%           | 48.47%        |      2.8908 |\n",
            "+---------+--------------+-------------+------------+-----------+-------------+-------------+-------------+----------+--------+------------------+---------------+-------------+\n"
          ]
        },
        {
          "name": "stderr",
          "output_type": "stream",
          "text": [
            "Epoch 19 - Training: 100%|████████████████████████████████████████| 630/630 [24:46<00:00,  2.36s/it]\n"
          ]
        },
        {
          "name": "stdout",
          "output_type": "stream",
          "text": [
            "No improvement in mean_distance for 1 epoch(s).\n",
            "+---------+--------------+-------------+------------+-----------+-------------+-------------+-------------+----------+--------+------------------+---------------+-------------+\n",
            "|   Epoch |   Train Loss | Train Acc   |   Val Loss | Val Acc   | Top-3 Acc   | Top-5 Acc   | Precision   | Recall   | F1     | Supergenre Acc   | Top-3 Super   |   Mean Dist |\n",
            "+=========+==============+=============+============+===========+=============+=============+=============+==========+========+==================+===============+=============+\n",
            "|      19 |       0.1645 | 99.88%      |     4.7995 | 11.59%    | 22.13%      | 29.61%      | 10.71%      | 11.66%   | 10.47% | 30.59%           | 48.70%        |      2.8923 |\n",
            "+---------+--------------+-------------+------------+-----------+-------------+-------------+-------------+----------+--------+------------------+---------------+-------------+\n"
          ]
        },
        {
          "name": "stderr",
          "output_type": "stream",
          "text": [
            "Epoch 20 - Training: 100%|████████████████████████████████████████| 630/630 [17:21<00:00,  1.65s/it]\n"
          ]
        },
        {
          "name": "stdout",
          "output_type": "stream",
          "text": [
            "No improvement in mean_distance for 2 epoch(s).\n",
            "+---------+--------------+-------------+------------+-----------+-------------+-------------+-------------+----------+--------+------------------+---------------+-------------+\n",
            "|   Epoch |   Train Loss | Train Acc   |   Val Loss | Val Acc   | Top-3 Acc   | Top-5 Acc   | Precision   | Recall   | F1     | Supergenre Acc   | Top-3 Super   |   Mean Dist |\n",
            "+=========+==============+=============+============+===========+=============+=============+=============+==========+========+==================+===============+=============+\n",
            "|      20 |       0.1624 | 99.91%      |     4.7563 | 11.48%    | 22.17%      | 29.56%      | 10.56%      | 11.55%   | 10.37% | 30.29%           | 48.90%        |      2.9025 |\n",
            "+---------+--------------+-------------+------------+-----------+-------------+-------------+-------------+----------+--------+------------------+---------------+-------------+\n"
          ]
        },
        {
          "name": "stderr",
          "output_type": "stream",
          "text": [
            "Epoch 21 - Training: 100%|████████████████████████████████████████| 630/630 [16:48<00:00,  1.60s/it]\n"
          ]
        },
        {
          "name": "stdout",
          "output_type": "stream",
          "text": [
            "No improvement in mean_distance for 3 epoch(s).\n",
            "+---------+--------------+-------------+------------+-----------+-------------+-------------+-------------+----------+--------+------------------+---------------+-------------+\n",
            "|   Epoch |   Train Loss | Train Acc   |   Val Loss | Val Acc   | Top-3 Acc   | Top-5 Acc   | Precision   | Recall   | F1     | Supergenre Acc   | Top-3 Super   |   Mean Dist |\n",
            "+=========+==============+=============+============+===========+=============+=============+=============+==========+========+==================+===============+=============+\n",
            "|      21 |       0.1618 | 99.88%      |      4.727 | 11.57%    | 22.20%      | 29.65%      | 10.51%      | 11.58%   | 10.35% | 30.43%           | 48.83%        |      2.9008 |\n",
            "+---------+--------------+-------------+------------+-----------+-------------+-------------+-------------+----------+--------+------------------+---------------+-------------+\n"
          ]
        },
        {
          "name": "stderr",
          "output_type": "stream",
          "text": [
            "Epoch 22 - Training: 100%|████████████████████████████████████████| 630/630 [14:44<00:00,  1.40s/it]\n"
          ]
        },
        {
          "name": "stdout",
          "output_type": "stream",
          "text": [
            "No improvement in mean_distance for 4 epoch(s).\n",
            "+---------+--------------+-------------+------------+-----------+-------------+-------------+-------------+----------+--------+------------------+---------------+-------------+\n",
            "|   Epoch |   Train Loss | Train Acc   |   Val Loss | Val Acc   | Top-3 Acc   | Top-5 Acc   | Precision   | Recall   | F1     | Supergenre Acc   | Top-3 Super   |   Mean Dist |\n",
            "+=========+==============+=============+============+===========+=============+=============+=============+==========+========+==================+===============+=============+\n",
            "|      22 |       0.1616 | 99.89%      |     4.7212 | 11.56%    | 22.40%      | 29.81%      | 10.80%      | 11.64%   | 10.50% | 30.61%           | 48.30%        |      2.9153 |\n",
            "+---------+--------------+-------------+------------+-----------+-------------+-------------+-------------+----------+--------+------------------+---------------+-------------+\n"
          ]
        },
        {
          "name": "stderr",
          "output_type": "stream",
          "text": [
            "Epoch 23 - Training: 100%|████████████████████████████████████████| 630/630 [14:44<00:00,  1.40s/it]\n"
          ]
        },
        {
          "name": "stdout",
          "output_type": "stream",
          "text": [
            "No improvement in mean_distance for 5 epoch(s).\n",
            "+---------+--------------+-------------+------------+-----------+-------------+-------------+-------------+----------+--------+------------------+---------------+-------------+\n",
            "|   Epoch |   Train Loss | Train Acc   |   Val Loss | Val Acc   | Top-3 Acc   | Top-5 Acc   | Precision   | Recall   | F1     | Supergenre Acc   | Top-3 Super   |   Mean Dist |\n",
            "+=========+==============+=============+============+===========+=============+=============+=============+==========+========+==================+===============+=============+\n",
            "|      23 |       0.1606 | 99.90%      |      4.713 | 11.54%    | 22.13%      | 29.65%      | 10.67%      | 11.62%   | 10.44% | 30.68%           | 48.61%        |      2.8962 |\n",
            "+---------+--------------+-------------+------------+-----------+-------------+-------------+-------------+----------+--------+------------------+---------------+-------------+\n"
          ]
        },
        {
          "name": "stderr",
          "output_type": "stream",
          "text": [
            "Epoch 24 - Training: 100%|████████████████████████████████████████| 630/630 [16:48<00:00,  1.60s/it]\n"
          ]
        },
        {
          "name": "stdout",
          "output_type": "stream",
          "text": [
            "No improvement in mean_distance for 6 epoch(s).\n",
            "+---------+--------------+-------------+------------+-----------+-------------+-------------+-------------+----------+--------+------------------+---------------+-------------+\n",
            "|   Epoch |   Train Loss | Train Acc   |   Val Loss | Val Acc   | Top-3 Acc   | Top-5 Acc   | Precision   | Recall   | F1     | Supergenre Acc   | Top-3 Super   |   Mean Dist |\n",
            "+=========+==============+=============+============+===========+=============+=============+=============+==========+========+==================+===============+=============+\n",
            "|      24 |       0.1604 | 99.88%      |     4.6954 | 11.49%    | 22.55%      | 29.99%      | 10.79%      | 11.59%   | 10.53% | 30.53%           | 48.87%        |      2.8941 |\n",
            "+---------+--------------+-------------+------------+-----------+-------------+-------------+-------------+----------+--------+------------------+---------------+-------------+\n"
          ]
        },
        {
          "name": "stderr",
          "output_type": "stream",
          "text": [
            "Epoch 25 - Training: 100%|████████████████████████████████████████| 630/630 [18:02<00:00,  1.72s/it]\n"
          ]
        },
        {
          "name": "stdout",
          "output_type": "stream",
          "text": [
            "No improvement in mean_distance for 7 epoch(s).\n",
            "+---------+--------------+-------------+------------+-----------+-------------+-------------+-------------+----------+--------+------------------+---------------+-------------+\n",
            "|   Epoch |   Train Loss | Train Acc   |   Val Loss | Val Acc   | Top-3 Acc   | Top-5 Acc   | Precision   | Recall   | F1     | Supergenre Acc   | Top-3 Super   |   Mean Dist |\n",
            "+=========+==============+=============+============+===========+=============+=============+=============+==========+========+==================+===============+=============+\n",
            "|      25 |       0.1603 | 99.89%      |     4.6813 | 11.47%    | 22.46%      | 29.76%      | 10.74%      | 11.59%   | 10.51% | 30.53%           | 49.09%        |      2.9135 |\n",
            "+---------+--------------+-------------+------------+-----------+-------------+-------------+-------------+----------+--------+------------------+---------------+-------------+\n"
          ]
        },
        {
          "name": "stderr",
          "output_type": "stream",
          "text": [
            "Epoch 26 - Training: 100%|████████████████████████████████████████| 630/630 [14:27<00:00,  1.38s/it]\n"
          ]
        },
        {
          "name": "stdout",
          "output_type": "stream",
          "text": [
            "No improvement in mean_distance for 8 epoch(s).\n",
            "+---------+--------------+-------------+------------+-----------+-------------+-------------+-------------+----------+--------+------------------+---------------+-------------+\n",
            "|   Epoch |   Train Loss | Train Acc   |   Val Loss | Val Acc   | Top-3 Acc   | Top-5 Acc   | Precision   | Recall   | F1     | Supergenre Acc   | Top-3 Super   |   Mean Dist |\n",
            "+=========+==============+=============+============+===========+=============+=============+=============+==========+========+==================+===============+=============+\n",
            "|      26 |       0.1599 | 99.88%      |     4.6749 | 11.59%    | 22.39%      | 29.57%      | 10.66%      | 11.65%   | 10.46% | 30.05%           | 48.65%        |      2.9116 |\n",
            "+---------+--------------+-------------+------------+-----------+-------------+-------------+-------------+----------+--------+------------------+---------------+-------------+\n"
          ]
        },
        {
          "name": "stderr",
          "output_type": "stream",
          "text": [
            "Epoch 27 - Training: 100%|████████████████████████████████████████| 630/630 [16:23<00:00,  1.56s/it]\n"
          ]
        },
        {
          "name": "stdout",
          "output_type": "stream",
          "text": [
            "[Epoch 27] New best mean_distance: 2.8899\n",
            "+---------+--------------+-------------+------------+-----------+-------------+-------------+-------------+----------+--------+------------------+---------------+-------------+\n",
            "|   Epoch |   Train Loss | Train Acc   |   Val Loss | Val Acc   | Top-3 Acc   | Top-5 Acc   | Precision   | Recall   | F1     | Supergenre Acc   | Top-3 Super   |   Mean Dist |\n",
            "+=========+==============+=============+============+===========+=============+=============+=============+==========+========+==================+===============+=============+\n",
            "|      27 |       0.1598 | 99.91%      |     4.6685 | 11.83%    | 22.53%      | 29.95%      | 10.66%      | 11.89%   | 10.61% | 30.59%           | 48.70%        |      2.8899 |\n",
            "+---------+--------------+-------------+------------+-----------+-------------+-------------+-------------+----------+--------+------------------+---------------+-------------+\n"
          ]
        },
        {
          "name": "stderr",
          "output_type": "stream",
          "text": [
            "Epoch 28 - Training: 100%|████████████████████████████████████████| 630/630 [18:28<00:00,  1.76s/it]\n"
          ]
        },
        {
          "name": "stdout",
          "output_type": "stream",
          "text": [
            "No improvement in mean_distance for 1 epoch(s).\n",
            "+---------+--------------+-------------+------------+-----------+-------------+-------------+-------------+----------+--------+------------------+---------------+-------------+\n",
            "|   Epoch |   Train Loss | Train Acc   |   Val Loss | Val Acc   | Top-3 Acc   | Top-5 Acc   | Precision   | Recall   | F1     | Supergenre Acc   | Top-3 Super   |   Mean Dist |\n",
            "+=========+==============+=============+============+===========+=============+=============+=============+==========+========+==================+===============+=============+\n",
            "|      28 |       0.1596 | 99.90%      |     4.6629 | 11.66%    | 22.45%      | 29.78%      | 10.78%      | 11.74%   | 10.57% | 30.35%           | 48.78%        |      2.8939 |\n",
            "+---------+--------------+-------------+------------+-----------+-------------+-------------+-------------+----------+--------+------------------+---------------+-------------+\n"
          ]
        },
        {
          "name": "stderr",
          "output_type": "stream",
          "text": [
            "Epoch 29 - Training: 100%|████████████████████████████████████████| 630/630 [14:51<00:00,  1.41s/it]\n"
          ]
        },
        {
          "name": "stdout",
          "output_type": "stream",
          "text": [
            "No improvement in mean_distance for 2 epoch(s).\n",
            "+---------+--------------+-------------+------------+-----------+-------------+-------------+-------------+----------+--------+------------------+---------------+-------------+\n",
            "|   Epoch |   Train Loss | Train Acc   |   Val Loss | Val Acc   | Top-3 Acc   | Top-5 Acc   | Precision   | Recall   | F1     | Supergenre Acc   | Top-3 Super   |   Mean Dist |\n",
            "+=========+==============+=============+============+===========+=============+=============+=============+==========+========+==================+===============+=============+\n",
            "|      29 |       0.1594 | 99.90%      |      4.657 | 11.61%    | 22.64%      | 30.03%      | 10.62%      | 11.77%   | 10.50% | 30.68%           | 48.94%        |      2.9013 |\n",
            "+---------+--------------+-------------+------------+-----------+-------------+-------------+-------------+----------+--------+------------------+---------------+-------------+\n"
          ]
        },
        {
          "name": "stderr",
          "output_type": "stream",
          "text": [
            "Epoch 30 - Training: 100%|████████████████████████████████████████| 630/630 [16:16<00:00,  1.55s/it]\n"
          ]
        },
        {
          "name": "stdout",
          "output_type": "stream",
          "text": [
            "No improvement in mean_distance for 3 epoch(s).\n",
            "+---------+--------------+-------------+------------+-----------+-------------+-------------+-------------+----------+--------+------------------+---------------+-------------+\n",
            "|   Epoch |   Train Loss | Train Acc   |   Val Loss | Val Acc   | Top-3 Acc   | Top-5 Acc   | Precision   | Recall   | F1     | Supergenre Acc   | Top-3 Super   |   Mean Dist |\n",
            "+=========+==============+=============+============+===========+=============+=============+=============+==========+========+==================+===============+=============+\n",
            "|      30 |       0.1594 | 99.90%      |     4.6536 | 11.57%    | 22.60%      | 29.76%      | 10.62%      | 11.66%   | 10.44% | 30.48%           | 48.80%        |      2.9045 |\n",
            "+---------+--------------+-------------+------------+-----------+-------------+-------------+-------------+----------+--------+------------------+---------------+-------------+\n"
          ]
        },
        {
          "name": "stderr",
          "output_type": "stream",
          "text": [
            "Epoch 31 - Training: 100%|████████████████████████████████████████| 630/630 [18:35<00:00,  1.77s/it]\n"
          ]
        },
        {
          "name": "stdout",
          "output_type": "stream",
          "text": [
            "[Epoch 31] New best mean_distance: 2.8866\n",
            "+---------+--------------+-------------+------------+-----------+-------------+-------------+-------------+----------+--------+------------------+---------------+-------------+\n",
            "|   Epoch |   Train Loss | Train Acc   |   Val Loss | Val Acc   | Top-3 Acc   | Top-5 Acc   | Precision   | Recall   | F1     | Supergenre Acc   | Top-3 Super   |   Mean Dist |\n",
            "+=========+==============+=============+============+===========+=============+=============+=============+==========+========+==================+===============+=============+\n",
            "|      31 |       0.1592 | 99.90%      |     4.6564 | 11.60%    | 22.51%      | 29.92%      | 10.70%      | 11.65%   | 10.49% | 30.43%           | 48.58%        |      2.8866 |\n",
            "+---------+--------------+-------------+------------+-----------+-------------+-------------+-------------+----------+--------+------------------+---------------+-------------+\n"
          ]
        },
        {
          "name": "stderr",
          "output_type": "stream",
          "text": [
            "Epoch 32 - Training: 100%|████████████████████████████████████████| 630/630 [16:56<00:00,  1.61s/it]\n"
          ]
        },
        {
          "name": "stdout",
          "output_type": "stream",
          "text": [
            "No improvement in mean_distance for 1 epoch(s).\n",
            "+---------+--------------+-------------+------------+-----------+-------------+-------------+-------------+----------+--------+------------------+---------------+-------------+\n",
            "|   Epoch |   Train Loss | Train Acc   |   Val Loss | Val Acc   | Top-3 Acc   | Top-5 Acc   | Precision   | Recall   | F1     | Supergenre Acc   | Top-3 Super   |   Mean Dist |\n",
            "+=========+==============+=============+============+===========+=============+=============+=============+==========+========+==================+===============+=============+\n",
            "|      32 |       0.1592 | 99.92%      |     4.6548 | 11.57%    | 22.40%      | 30.03%      | 10.64%      | 11.60%   | 10.46% | 30.41%           | 48.67%        |      2.9038 |\n",
            "+---------+--------------+-------------+------------+-----------+-------------+-------------+-------------+----------+--------+------------------+---------------+-------------+\n"
          ]
        },
        {
          "name": "stderr",
          "output_type": "stream",
          "text": [
            "Epoch 33 - Training: 100%|████████████████████████████████████████| 630/630 [16:46<00:00,  1.60s/it]\n"
          ]
        },
        {
          "name": "stdout",
          "output_type": "stream",
          "text": [
            "No improvement in mean_distance for 2 epoch(s).\n",
            "+---------+--------------+-------------+------------+-----------+-------------+-------------+-------------+----------+--------+------------------+---------------+-------------+\n",
            "|   Epoch |   Train Loss | Train Acc   |   Val Loss | Val Acc   | Top-3 Acc   | Top-5 Acc   | Precision   | Recall   | F1     | Supergenre Acc   | Top-3 Super   |   Mean Dist |\n",
            "+=========+==============+=============+============+===========+=============+=============+=============+==========+========+==================+===============+=============+\n",
            "|      33 |       0.1592 | 99.90%      |     4.6525 | 11.56%    | 22.51%      | 29.97%      | 10.73%      | 11.66%   | 10.52% | 30.57%           | 48.62%        |      2.8884 |\n",
            "+---------+--------------+-------------+------------+-----------+-------------+-------------+-------------+----------+--------+------------------+---------------+-------------+\n"
          ]
        },
        {
          "name": "stderr",
          "output_type": "stream",
          "text": [
            "Epoch 34 - Training: 100%|████████████████████████████████████████| 630/630 [18:18<00:00,  1.74s/it]\n"
          ]
        },
        {
          "name": "stdout",
          "output_type": "stream",
          "text": [
            "No improvement in mean_distance for 3 epoch(s).\n",
            "+---------+--------------+-------------+------------+-----------+-------------+-------------+-------------+----------+--------+------------------+---------------+-------------+\n",
            "|   Epoch |   Train Loss | Train Acc   |   Val Loss | Val Acc   | Top-3 Acc   | Top-5 Acc   | Precision   | Recall   | F1     | Supergenre Acc   | Top-3 Super   |   Mean Dist |\n",
            "+=========+==============+=============+============+===========+=============+=============+=============+==========+========+==================+===============+=============+\n",
            "|      34 |       0.1592 | 99.90%      |     4.6512 | 11.37%    | 22.27%      | 29.57%      | 10.61%      | 11.48%   | 10.37% | 30.31%           | 48.84%        |      2.9052 |\n",
            "+---------+--------------+-------------+------------+-----------+-------------+-------------+-------------+----------+--------+------------------+---------------+-------------+\n"
          ]
        },
        {
          "name": "stderr",
          "output_type": "stream",
          "text": [
            "Epoch 35 - Training: 100%|████████████████████████████████████████| 630/630 [16:35<00:00,  1.58s/it]\n"
          ]
        },
        {
          "name": "stdout",
          "output_type": "stream",
          "text": [
            "No improvement in mean_distance for 4 epoch(s).\n",
            "+---------+--------------+-------------+------------+-----------+-------------+-------------+-------------+----------+--------+------------------+---------------+-------------+\n",
            "|   Epoch |   Train Loss | Train Acc   |   Val Loss | Val Acc   | Top-3 Acc   | Top-5 Acc   | Precision   | Recall   | F1     | Supergenre Acc   | Top-3 Super   |   Mean Dist |\n",
            "+=========+==============+=============+============+===========+=============+=============+=============+==========+========+==================+===============+=============+\n",
            "|      35 |       0.1591 | 99.91%      |     4.6435 | 11.47%    | 22.26%      | 29.88%      | 10.70%      | 11.52%   | 10.40% | 30.25%           | 48.48%        |      2.9099 |\n",
            "+---------+--------------+-------------+------------+-----------+-------------+-------------+-------------+----------+--------+------------------+---------------+-------------+\n"
          ]
        },
        {
          "name": "stderr",
          "output_type": "stream",
          "text": [
            "Epoch 36 - Training: 100%|████████████████████████████████████████| 630/630 [18:26<00:00,  1.76s/it]\n"
          ]
        },
        {
          "name": "stdout",
          "output_type": "stream",
          "text": [
            "No improvement in mean_distance for 5 epoch(s).\n",
            "+---------+--------------+-------------+------------+-----------+-------------+-------------+-------------+----------+--------+------------------+---------------+-------------+\n",
            "|   Epoch |   Train Loss | Train Acc   |   Val Loss | Val Acc   | Top-3 Acc   | Top-5 Acc   | Precision   | Recall   | F1     | Supergenre Acc   | Top-3 Super   |   Mean Dist |\n",
            "+=========+==============+=============+============+===========+=============+=============+=============+==========+========+==================+===============+=============+\n",
            "|      36 |       0.1591 | 99.92%      |     4.6471 | 11.51%    | 22.45%      | 30.00%      | 10.80%      | 11.61%   | 10.51% | 30.45%           | 48.78%        |      2.8951 |\n",
            "+---------+--------------+-------------+------------+-----------+-------------+-------------+-------------+----------+--------+------------------+---------------+-------------+\n"
          ]
        },
        {
          "name": "stderr",
          "output_type": "stream",
          "text": [
            "Epoch 37 - Training: 100%|████████████████████████████████████████| 630/630 [17:09<00:00,  1.63s/it]\n"
          ]
        },
        {
          "name": "stdout",
          "output_type": "stream",
          "text": [
            "No improvement in mean_distance for 6 epoch(s).\n",
            "+---------+--------------+-------------+------------+-----------+-------------+-------------+-------------+----------+--------+------------------+---------------+-------------+\n",
            "|   Epoch |   Train Loss | Train Acc   |   Val Loss | Val Acc   | Top-3 Acc   | Top-5 Acc   | Precision   | Recall   | F1     | Supergenre Acc   | Top-3 Super   |   Mean Dist |\n",
            "+=========+==============+=============+============+===========+=============+=============+=============+==========+========+==================+===============+=============+\n",
            "|      37 |       0.1591 | 99.91%      |     4.6481 | 11.68%    | 22.67%      | 30.44%      | 10.61%      | 11.79%   | 10.48% | 30.67%           | 48.82%        |       2.892 |\n",
            "+---------+--------------+-------------+------------+-----------+-------------+-------------+-------------+----------+--------+------------------+---------------+-------------+\n"
          ]
        },
        {
          "name": "stderr",
          "output_type": "stream",
          "text": [
            "Epoch 38 - Training: 100%|████████████████████████████████████████| 630/630 [18:10<00:00,  1.73s/it]\n"
          ]
        },
        {
          "name": "stdout",
          "output_type": "stream",
          "text": [
            "No improvement in mean_distance for 7 epoch(s).\n",
            "+---------+--------------+-------------+------------+-----------+-------------+-------------+-------------+----------+--------+------------------+---------------+-------------+\n",
            "|   Epoch |   Train Loss | Train Acc   |   Val Loss | Val Acc   | Top-3 Acc   | Top-5 Acc   | Precision   | Recall   | F1     | Supergenre Acc   | Top-3 Super   |   Mean Dist |\n",
            "+=========+==============+=============+============+===========+=============+=============+=============+==========+========+==================+===============+=============+\n",
            "|      38 |        0.159 | 99.91%      |     4.6504 | 11.52%    | 22.42%      | 29.79%      | 10.52%      | 11.49%   | 10.33% | 30.28%           | 48.68%        |      2.8991 |\n",
            "+---------+--------------+-------------+------------+-----------+-------------+-------------+-------------+----------+--------+------------------+---------------+-------------+\n"
          ]
        },
        {
          "name": "stderr",
          "output_type": "stream",
          "text": [
            "Epoch 39 - Training: 100%|████████████████████████████████████████| 630/630 [17:23<00:00,  1.66s/it]\n"
          ]
        },
        {
          "name": "stdout",
          "output_type": "stream",
          "text": [
            "No improvement in mean_distance for 8 epoch(s).\n",
            "+---------+--------------+-------------+------------+-----------+-------------+-------------+-------------+----------+--------+------------------+---------------+-------------+\n",
            "|   Epoch |   Train Loss | Train Acc   |   Val Loss | Val Acc   | Top-3 Acc   | Top-5 Acc   | Precision   | Recall   | F1     | Supergenre Acc   | Top-3 Super   |   Mean Dist |\n",
            "+=========+==============+=============+============+===========+=============+=============+=============+==========+========+==================+===============+=============+\n",
            "|      39 |       0.1589 | 99.91%      |     4.6491 | 11.61%    | 22.46%      | 29.82%      | 10.69%      | 11.73%   | 10.52% | 30.48%           | 48.78%        |      2.9024 |\n",
            "+---------+--------------+-------------+------------+-----------+-------------+-------------+-------------+----------+--------+------------------+---------------+-------------+\n"
          ]
        },
        {
          "name": "stderr",
          "output_type": "stream",
          "text": [
            "Epoch 40 - Training: 100%|████████████████████████████████████████| 630/630 [18:03<00:00,  1.72s/it]\n"
          ]
        },
        {
          "name": "stdout",
          "output_type": "stream",
          "text": [
            "No improvement in mean_distance for 9 epoch(s).\n",
            "+---------+--------------+-------------+------------+-----------+-------------+-------------+-------------+----------+--------+------------------+---------------+-------------+\n",
            "|   Epoch |   Train Loss | Train Acc   |   Val Loss | Val Acc   | Top-3 Acc   | Top-5 Acc   | Precision   | Recall   | F1     | Supergenre Acc   | Top-3 Super   |   Mean Dist |\n",
            "+=========+==============+=============+============+===========+=============+=============+=============+==========+========+==================+===============+=============+\n",
            "|      40 |        0.159 | 99.93%      |     4.6559 | 11.65%    | 22.88%      | 30.23%      | 10.63%      | 11.72%   | 10.51% | 30.55%           | 48.94%        |      2.8872 |\n",
            "+---------+--------------+-------------+------------+-----------+-------------+-------------+-------------+----------+--------+------------------+---------------+-------------+\n"
          ]
        },
        {
          "name": "stderr",
          "output_type": "stream",
          "text": [
            "Epoch 41 - Training: 100%|████████████████████████████████████████| 630/630 [18:07<00:00,  1.73s/it]\n"
          ]
        },
        {
          "name": "stdout",
          "output_type": "stream",
          "text": [
            "No improvement in mean_distance for 10 epoch(s).\n",
            "+---------+--------------+-------------+------------+-----------+-------------+-------------+-------------+----------+--------+------------------+---------------+-------------+\n",
            "|   Epoch |   Train Loss | Train Acc   |   Val Loss | Val Acc   | Top-3 Acc   | Top-5 Acc   | Precision   | Recall   | F1     | Supergenre Acc   | Top-3 Super   |   Mean Dist |\n",
            "+=========+==============+=============+============+===========+=============+=============+=============+==========+========+==================+===============+=============+\n",
            "|      41 |        0.159 | 99.91%      |     4.6412 | 11.54%    | 22.53%      | 29.98%      | 10.66%      | 11.53%   | 10.43% | 30.39%           | 48.45%        |      2.9085 |\n",
            "+---------+--------------+-------------+------------+-----------+-------------+-------------+-------------+----------+--------+------------------+---------------+-------------+\n",
            "Early stopping triggered after 10 epochs of no improvement.\n",
            "Best model saved with mean_distance: 2.8866\n",
            "SWA model saved from averaged checkpoints.\n"
          ]
        },
        {
          "ename": "NameError",
          "evalue": "name 'output_dir' is not defined",
          "output_type": "error",
          "traceback": [
            "\u001b[31m---------------------------------------------------------------------------\u001b[39m",
            "\u001b[31mNameError\u001b[39m                                 Traceback (most recent call last)",
            "\u001b[36mCell\u001b[39m\u001b[36m \u001b[39m\u001b[32mIn[10]\u001b[39m\u001b[32m, line 144\u001b[39m\n\u001b[32m    127\u001b[39m \u001b[38;5;28mprint\u001b[39m(\u001b[33m\"\u001b[39m\u001b[33mSWA model saved from averaged checkpoints.\u001b[39m\u001b[33m\"\u001b[39m)\n\u001b[32m    129\u001b[39m metrics_df = pd.DataFrame({\n\u001b[32m    130\u001b[39m     \u001b[33m\"\u001b[39m\u001b[33mepoch\u001b[39m\u001b[33m\"\u001b[39m: \u001b[38;5;28mlist\u001b[39m(\u001b[38;5;28mrange\u001b[39m(\u001b[32m1\u001b[39m, \u001b[38;5;28mlen\u001b[39m(train_loss_list) + \u001b[32m1\u001b[39m)),\n\u001b[32m    131\u001b[39m     \u001b[33m\"\u001b[39m\u001b[33mtrain_loss\u001b[39m\u001b[33m\"\u001b[39m: train_loss_list,\n\u001b[32m   (...)\u001b[39m\u001b[32m    142\u001b[39m     \u001b[33m\"\u001b[39m\u001b[33mmean_distance\u001b[39m\u001b[33m\"\u001b[39m: mean_dist_list\n\u001b[32m    143\u001b[39m })\n\u001b[32m--> \u001b[39m\u001b[32m144\u001b[39m metrics_df.to_csv(\u001b[43moutput_dir\u001b[49m / \u001b[33m\"\u001b[39m\u001b[33mtraining_metrics.csv\u001b[39m\u001b[33m\"\u001b[39m, index=\u001b[38;5;28;01mFalse\u001b[39;00m)\n\u001b[32m    146\u001b[39m \u001b[38;5;66;03m# Save graphs of the various metrics\u001b[39;00m\n\u001b[32m    147\u001b[39m plot_metrics(val_accuracy_list, top3_acc_list, top5_acc_list, precision_list, recall_list, f1_list, mean_dist_list, super_acc_list, super_top3_acc_list, \u001b[33m\"\u001b[39m\u001b[33mmetrics.png\u001b[39m\u001b[33m\"\u001b[39m)\n",
            "\u001b[31mNameError\u001b[39m: name 'output_dir' is not defined"
          ]
        }
      ],
      "source": [
        "# Create index-to-supergenre lookup once\n",
        "idx_to_supergenre = np.array([cls[:3] for cls in train_dataset.classes])  # shape (num_classes,)\n",
        "\n",
        "# The line below might speed up training on MPS\n",
        "torch.set_float32_matmul_precision(\"high\")  # or \"medium\"\n",
        "\n",
        "# Metric lists\n",
        "val_accuracy_list, top3_acc_list, top5_acc_list = [], [], []\n",
        "precision_list, recall_list, f1_list = [], [], []\n",
        "mean_dist_list, super_acc_list, super_top3_acc_list = [], [], []\n",
        "train_loss_list, train_accuracy_list, val_loss_list = [], [], []\n",
        "\n",
        "# Early stopping and SWA setup\n",
        "# Going to stop based on mean distance\n",
        "best_mean_distance = float('inf')\n",
        "best_model_state = None\n",
        "counter = 0\n",
        "swa_model = AveragedModel(model_local)  # model to store average weights\n",
        "\n",
        "\n",
        "# === Training Loop ===\n",
        "for epoch in range(num_epochs):\n",
        "    model_local.train()\n",
        "    train_loss, correct, total = 0.0, 0, 0\n",
        "\n",
        "\n",
        "    # Train\n",
        "    for inputs, labels in tqdm(train_dataloader, desc=f\"Epoch {epoch+1} - Training\", leave=True, ncols=100):\n",
        "    #for batch_idx, (inputs, labels) in enumerate(train_dataloader):\n",
        "        inputs, labels = inputs.to(device), labels.to(device)\n",
        "        optimizer.zero_grad()\n",
        "\n",
        "        # Putting this inside autocast might speed up cuda computations\n",
        "        if torch.cuda.is_available():\n",
        "            with torch.amp.autocast('cuda'):\n",
        "                outputs = model_local(inputs)\n",
        "\n",
        "                # Take the log softmax of outputs\n",
        "                outputs = torch.log_softmax(outputs, dim=1)\n",
        "                loss = criterion(outputs, labels)\n",
        "        else:\n",
        "            outputs = model_local(inputs)\n",
        "            outputs = torch.log_softmax(outputs, dim=1)\n",
        "            loss = criterion(outputs, labels)\n",
        "\n",
        "        \n",
        "        # On Apple Silicon, just call backward and step\n",
        "        loss.backward()\n",
        "        optimizer.step()\n",
        "        # On CUDA, substitute with the scaler\n",
        "        #scaler.scale(loss).backward()\n",
        "        #scaler.step(optimizer)\n",
        "        #scaler.update()\n",
        "\n",
        "        train_loss += loss.item()\n",
        "        _, predicted = outputs.max(1)\n",
        "        correct += predicted.eq(labels).sum().item()\n",
        "        total += labels.size(0)\n",
        "\n",
        "    avg_train_loss = train_loss / len(train_dataloader)\n",
        "    train_accuracy = correct / total\n",
        "\n",
        "    # Add train loss and accuracy to their lists\n",
        "    train_loss_list.append(avg_train_loss)\n",
        "    train_accuracy_list.append(train_accuracy)\n",
        "\n",
        "    # --- Validation ---\n",
        "    metrics = evaluate(idx_to_supergenre, model_local, val_dataloader, criterion, device, shortest_graph, train_dataset)#, epoch=epoch)\n",
        "\n",
        "    # Early stopping based on mean distance\n",
        "    if metrics['mean_distance'] < best_mean_distance:\n",
        "        best_mean_distance = metrics['mean_distance']\n",
        "        best_model_state = model_local.state_dict()\n",
        "        counter = 0\n",
        "        print(f\"[Epoch {epoch+1}] New best mean_distance: {best_mean_distance:.4f}\")\n",
        "    else:\n",
        "        counter += 1\n",
        "        print(f\"No improvement in mean_distance for {counter} epoch(s).\")\n",
        "\n",
        "\n",
        "    # SWA Averaging\n",
        "    if epoch >= swa_start_epoch:\n",
        "        swa_model.update_parameters(model_local)\n",
        "\n",
        "    # Append metrics to lists\n",
        "    for lst, key in zip(\n",
        "        [val_loss_list, val_accuracy_list, top3_acc_list, top5_acc_list, precision_list, recall_list, f1_list,\n",
        "        mean_dist_list, super_acc_list, super_top3_acc_list],\n",
        "        [\"val_loss\", \"val_accuracy\", \"top3_accuracy\", \"top5_accuracy\", \"precision\", \"recall\", \"f1\",\n",
        "        \"mean_distance\", \"supergenre_accuracy\", \"supergenre_top3_accuracy\"]\n",
        "    ):\n",
        "        lst.append(metrics[key])\n",
        "\n",
        "    # Print metrics table\n",
        "    headers = [\"Epoch\", \"Train Loss\", \"Train Acc\", \"Val Loss\", \"Val Acc\",\n",
        "               \"Top-3 Acc\", \"Top-5 Acc\", \"Precision\", \"Recall\", \"F1\",\n",
        "               \"Supergenre Acc\", \"Top-3 Super\", \"Mean Dist\"]\n",
        "\n",
        "    row = [epoch + 1,\n",
        "        f\"{avg_train_loss:.4f}\", f\"{train_accuracy:.2%}\",\n",
        "        f\"{metrics['val_loss']:.4f}\", f\"{metrics['val_accuracy']:.2%}\",\n",
        "        f\"{metrics['top3_accuracy']:.2%}\", f\"{metrics['top5_accuracy']:.2%}\",\n",
        "        f\"{metrics['precision']:.2%}\", f\"{metrics['recall']:.2%}\", f\"{metrics['f1']:.2%}\",\n",
        "        f\"{metrics['supergenre_accuracy']:.2%}\", f\"{metrics['supergenre_top3_accuracy']:.2%}\",\n",
        "        f\"{metrics['mean_distance']:.4f}\"]\n",
        "\n",
        "    try:\n",
        "        print(tabulate([row], headers=headers, tablefmt=\"grid\"))\n",
        "    except Exception as e:\n",
        "        print(f\"Error printing metrics: {e}\", flush=True)\n",
        "        print(f\"metrics dict: {metrics}\")\n",
        "        raise\n",
        "\n",
        "    if counter >= patience:\n",
        "        print(f\"Early stopping triggered after {patience} epochs of no improvement.\")\n",
        "        break\n",
        "    \n",
        "    scheduler.step(metrics['mean_distance'])\n",
        "\n",
        "# Save the best model\n",
        "if best_model_state is not None:\n",
        "    torch.save(best_model_state, 'best_model.pth')\n",
        "    print(f\"Best model saved with mean_distance: {best_mean_distance:.4f}\")\n",
        "\n",
        "# Save the SWA model\n",
        "torch.save(swa_model.module.state_dict(), 'swa_model.pth')\n",
        "print(\"SWA model saved from averaged checkpoints.\")\n",
        "\n",
        "metrics_df = pd.DataFrame({\n",
        "    \"epoch\": list(range(1, len(train_loss_list) + 1)),\n",
        "    \"train_loss\": train_loss_list,\n",
        "    \"train_accuracy\": train_accuracy_list,\n",
        "    \"val_loss\": val_loss_list,\n",
        "    \"val_accuracy\": val_accuracy_list,\n",
        "    \"top3_accuracy\": top3_acc_list,\n",
        "    \"top5_accuracy\": top5_acc_list,\n",
        "    \"precision\": precision_list,\n",
        "    \"recall\": recall_list,\n",
        "    \"f1\": f1_list,\n",
        "    \"supergenre_accuracy\": super_acc_list,\n",
        "    \"supergenre_top3_accuracy\": super_top3_acc_list,\n",
        "    \"mean_distance\": mean_dist_list\n",
        "})\n",
        "metrics_df.to_csv(\"training_metrics.csv\", index=False)\n",
        "\n",
        "# Save graphs of the various metrics\n",
        "plot_metrics(val_accuracy_list, top3_acc_list, top5_acc_list, precision_list, recall_list, f1_list, mean_dist_list, super_acc_list, super_top3_acc_list, \"metrics.png\")\n",
        "\n",
        "# Save the final confusion matrices\n",
        "cm_genre = metrics['genre_confusion_matrix']\n",
        "cm_genre.to_csv(\"confusion_matrix_genre.csv\")\n",
        "\n",
        "cm_supergenre = metrics['supergenre_confusion_matrix']\n",
        "cm_supergenre.to_csv(\"confusion_matrix_supergenre.csv\")\n",
        "\n",
        "# Load confusion_matrix.csv and make a heatmap of the confusion matrix\n",
        "plot_cm_super(cm_supergenre, \"supergenre_confusion_matrix.png\")"
      ]
    },
    {
      "cell_type": "code",
      "execution_count": 11,
      "id": "6843f22b",
      "metadata": {},
      "outputs": [],
      "source": [
        "metrics_df.to_csv(\"training_metrics.csv\", index=False)\n",
        "\n",
        "# Save graphs of the various metrics\n",
        "plot_metrics(val_accuracy_list, top3_acc_list, top5_acc_list, precision_list, recall_list, f1_list, mean_dist_list, super_acc_list, super_top3_acc_list, \"metrics.png\")\n",
        "\n",
        "# Save the final confusion matrices\n",
        "cm_genre = metrics['genre_confusion_matrix']\n",
        "cm_genre.to_csv(\"confusion_matrix_genre.csv\")\n",
        "\n",
        "cm_supergenre = metrics['supergenre_confusion_matrix']\n",
        "cm_supergenre.to_csv(\"confusion_matrix_supergenre.csv\")\n",
        "\n",
        "# Load confusion_matrix.csv and make a heatmap of the confusion matrix\n",
        "plot_cm_super(cm_supergenre, \"supergenre_confusion_matrix.png\")"
      ]
    }
  ],
  "metadata": {
    "kernel_info": {
      "name": "python38-azureml-pt-tf"
    },
    "kernelspec": {
      "display_name": "deep-learning",
      "language": "python",
      "name": "python3"
    },
    "language_info": {
      "codemirror_mode": {
        "name": "ipython",
        "version": 3
      },
      "file_extension": ".py",
      "mimetype": "text/x-python",
      "name": "python",
      "nbconvert_exporter": "python",
      "pygments_lexer": "ipython3",
      "version": "3.12.2"
    },
    "microsoft": {
      "host": {
        "AzureML": {
          "notebookHasBeenCompleted": true
        }
      },
      "ms_spell_check": {
        "ms_spell_check_language": "en"
      }
    },
    "nteract": {
      "version": "nteract-front-end@1.0.0"
    }
  },
  "nbformat": 4,
  "nbformat_minor": 5
}
